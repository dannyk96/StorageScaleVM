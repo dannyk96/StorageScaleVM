 "cells": [
  {DME.md  Untitled.ipynb  Vagrantfile  disk/  prep-box/  this_is_in_myDocuments.txt  {changed:
   "cell_type": "code",
   "execution_count": null,4 ~/OneDrive - CSI Limited/Documents/StorageScaleVagrant/virtualbox (main)
   "id": "aacd31fa-59be-4d47-9d55-18f35b38410f",
   "metadata": {},
   "outputs": [],
   "source": [
    "## Test Restapi interface"
   ]
  },
  {
   "cell_type": "code",
   "execution_count": null,
   "id": "f10d4c7c-ca9a-426c-bb1e-6d99a7a8150c",
   "metadata": {},
   "outputs": [],
   "source": [
    "curl -sk -u admin:admin001 https://127.0.0.1:8888/scalemgmt/v2/filesystems/fs1 |jq \" .filesystems[].replication\""
   ]
  },
  {
   "cell_type": "code",
   "execution_count": null,
   "id": "1e6fa321-f3a6-47bf-872a-e98fd84b3260",
   "metadata": {},
   "outputs": [],
   "source": [
    "{\n",
    "  \"defaultDataReplicas\": 1,\n",
    "  \"defaultMetadataReplicas\": 1,\n",
    "  \"logReplicas\": 0,\n",
    "  \"maxDataReplicas\": 2,\n",
    "  \"maxMetadataReplicas\": 2,\n",
    "  \"strictReplication\": \"whenpossible\"\n",
    "}\n"
   ]
  }
 ],
 "metadata": {
  "kernelspec": {
   "display_name": "Python 3 (ipykernel)",
   "language": "python",
   "name": "python3"
  },
  "language_info": {
   "codemirror_mode": {
    "name": "ipython",
    "version": 3
   },
   "file_extension": ".py",
   "mimetype": "text/x-python",
   "name": "python",
   "nbconvert_exporter": "python",
   "pygments_lexer": "ipython3",
   "version": "3.12.4"
  }
 },
 "nbformat": 4,
 "nbformat_minor": 5
}
